{
  "nbformat": 4,
  "nbformat_minor": 0,
  "metadata": {
    "colab": {
      "name": "BacktestFinal.ipynb",
      "provenance": []
    },
    "kernelspec": {
      "name": "python3",
      "display_name": "Python 3"
    }
  },
  "cells": [
    {
      "cell_type": "code",
      "metadata": {
        "id": "ziLOx30rzS21",
        "colab_type": "code",
        "colab": {
          "base_uri": "https://localhost:8080/",
          "height": 70
        },
        "outputId": "85912755-8a84-42b8-ffab-eb7f7bb61271"
      },
      "source": [
        "import pandas_datareader.data as pdr\n",
        "import datetime as dt\n",
        "import pandas as pd\n",
        "import numpy as np\n",
        "\n",
        "def getdata(stock_list, days):\n",
        "  df = pd.DataFrame()\n",
        "  for tickers in stock_list:\n",
        "    df[tickers] = pdr.DataReader(tickers, 'yahoo', start='1/1/2014')['Adj Close']\n",
        "  return df.head(days)\n"
      ],
      "execution_count": 1,
      "outputs": [
        {
          "output_type": "stream",
          "text": [
            "/usr/local/lib/python3.6/dist-packages/pandas_datareader/compat/__init__.py:7: FutureWarning: pandas.util.testing is deprecated. Use the functions in the public API at pandas.testing instead.\n",
            "  from pandas.util.testing import assert_frame_equal\n"
          ],
          "name": "stderr"
        }
      ]
    },
    {
      "cell_type": "code",
      "metadata": {
        "id": "VbNxGu65zZ61",
        "colab_type": "code",
        "colab": {}
      },
      "source": [
        "def rsi(data):\n",
        "  delta = data.diff()\n",
        "  up, down = delta.copy(), delta.copy()\n",
        "  up[up < 0] = 0\n",
        "  down[down > 0] = 0\n",
        "  \n",
        "  roll_up = up.mean()\n",
        "  roll_down = down.abs().mean()\n",
        "\n",
        "  RS = roll_up / roll_down\n",
        "  rsi = (100.0 - (100.0 / (1.0 + RS)))[0]\n",
        "  \n",
        "  if(rsi > 70): return -1,rsi\n",
        "  elif(rsi < 30): return 1,rsi\n",
        "  else: return 0,rsi"
      ],
      "execution_count": 2,
      "outputs": []
    },
    {
      "cell_type": "code",
      "metadata": {
        "id": "JVXvk8cR2k_Y",
        "colab_type": "code",
        "colab": {}
      },
      "source": [
        "def macd(data):\n",
        "  df = data.copy()\n",
        "  malong = df.ewm(span = 26 , min_periods = 26).mean().tail(1).iloc[0,0]\n",
        "  mashort = df.ewm(span = 12 , min_periods = 12).mean().tail(1).iloc[0,0]\n",
        "  macD = mashort - malong\n",
        "  if macD>0:\n",
        "    #Buy Signal\n",
        "    return 1\n",
        "  elif macD==0:\n",
        "    #Hold Signal\n",
        "    return 0\n",
        "  else:\n",
        "    #Sell Signal\n",
        "    return -1  "
      ],
      "execution_count": 3,
      "outputs": []
    },
    {
      "cell_type": "code",
      "metadata": {
        "id": "Slw5VeHIJs1U",
        "colab_type": "code",
        "colab": {}
      },
      "source": [
        "def ma(data, price):\n",
        "  mavg = data.mean().values[0]\n",
        "  if price>mavg:\n",
        "    return 1\n",
        "  elif price<mavg:\n",
        "    return -1"
      ],
      "execution_count": 4,
      "outputs": []
    },
    {
      "cell_type": "code",
      "metadata": {
        "id": "ymNOGitwzaVc",
        "colab_type": "code",
        "colab": {}
      },
      "source": [
        "def createbook(df, days, portfolio):\n",
        "  tracker = pd.DataFrame(index = df.tail(days - 26).index, columns = ['Liquid Cash', 'Stock Value'])\n",
        "  tracker['Stock Value'] = np.zeros(days - 26)\n",
        "  tracker['Liquid Cash'] = np.zeros(days - 26)\n",
        "  tracker['Liquid Cash'][0] = portfolio\n",
        "  return tracker"
      ],
      "execution_count": 5,
      "outputs": []
    },
    {
      "cell_type": "code",
      "metadata": {
        "id": "BgksaL_Fzdkj",
        "colab_type": "code",
        "colab": {}
      },
      "source": [
        "days = 1500\n",
        "portfolio = 500\n",
        "signal1 = 0\n",
        "bought = 0\n",
        "data = getdata(['RELIANCE.NS'], days)\n",
        "tracker = createbook(data, days, portfolio)\n",
        "for index, rows in tracker.iterrows():\n",
        "  signal1 = rsi(data.loc[:index].tail(14))[0]\n",
        "  signal2 = macd(data.loc[:index].tail(26))\n",
        "  signal3 = ma(data.loc[:index].tail(20), data.loc[index][0])\n",
        "  leftover = tracker.loc[:index].tail(2).head(1).iloc[0,0]\n",
        "  if (signal1==1 or signal2==1 or signal3==1) and bought==0:\n",
        "    tracker.loc[index, 'Liquid Cash'] = leftover - data.loc[index][0]\n",
        "    tracker.loc[index, 'Stock Value'] = data.loc[index][0]\n",
        "    bought=1\n",
        "  elif (signal3==-1) and bought==1:\n",
        "    tracker.loc[index, 'Liquid Cash'] = leftover + data.loc[index][0]\n",
        "    tracker.loc[index, 'Stock Value'] = 0\n",
        "    bought=0\n",
        "  elif bought==0:\n",
        "    tracker.loc[index, 'Liquid Cash'] = leftover\n",
        "    tracker.loc[index, 'Stock Value'] = 0\n",
        "  elif bought==1:\n",
        "    tracker.loc[index, 'Liquid Cash'] = leftover\n",
        "    tracker.loc[index, 'Stock Value'] = data.loc[index][0]\n"
      ],
      "execution_count": 6,
      "outputs": []
    },
    {
      "cell_type": "code",
      "metadata": {
        "id": "Fl5-p40Jzjnj",
        "colab_type": "code",
        "colab": {
          "base_uri": "https://localhost:8080/",
          "height": 580
        },
        "outputId": "467c5833-c0dc-4b8a-851d-e5855a75e453"
      },
      "source": [
        "tracker['Net'] = tracker.sum(axis=1)\n",
        "import matplotlib.pyplot as plt\n",
        "tracker['Net'].plot(figsize=(20, 10))"
      ],
      "execution_count": 7,
      "outputs": [
        {
          "output_type": "execute_result",
          "data": {
            "text/plain": [
              "<matplotlib.axes._subplots.AxesSubplot at 0x7fbd9d63fa90>"
            ]
          },
          "metadata": {
            "tags": []
          },
          "execution_count": 7
        },
        {
          "output_type": "display_data",
          "data": {
            "image/png": "[encoded data removed]",
            "text/plain": [
              "<Figure size 1440x720 with 1 Axes>"
            ]
          },
          "metadata": {
            "tags": [],
            "needs_background": "light"
          }
        }
      ]
    },
    {
      "cell_type": "markdown",
      "metadata": {
        "id": "_SJ9WeROp6dJ",
        "colab_type": "text"
      },
      "source": [
        "# KPI Analyses\n",
        "\n",
        "## CAGR"
      ]
    },
    {
      "cell_type": "code",
      "metadata": {
        "id": "nD9AFk0O0Th0",
        "colab_type": "code",
        "colab": {}
      },
      "source": [
        "def cagr(data):\n",
        "  df = data.copy()\n",
        "  df = df.pct_change()\n",
        "  df = (1+df).cumprod()\n",
        "  n = len(df)/252\n",
        "  r = df.tail(1).iloc[0,0]\n",
        "  ret = ((r)**(1/n)) - 1\n",
        "  return ret*100"
      ],
      "execution_count": 8,
      "outputs": []
    },
    {
      "cell_type": "code",
      "metadata": {
        "id": "E4_2h7sRonVz",
        "colab_type": "code",
        "colab": {
          "base_uri": "https://localhost:8080/",
          "height": 34
        },
        "outputId": "7010f89b-90ac-4832-990f-1a82c9822937"
      },
      "source": [
        "check = pd.DataFrame(tracker['Net'])\n",
        "cagr(check)"
      ],
      "execution_count": 9,
      "outputs": [
        {
          "output_type": "execute_result",
          "data": {
            "text/plain": [
              "19.41581839588773"
            ]
          },
          "metadata": {
            "tags": []
          },
          "execution_count": 9
        }
      ]
    },
    {
      "cell_type": "markdown",
      "metadata": {
        "id": "IPKuK8QVq8IX",
        "colab_type": "text"
      },
      "source": [
        "## Risk "
      ]
    },
    {
      "cell_type": "code",
      "metadata": {
        "id": "3bED7cqlq-75",
        "colab_type": "code",
        "colab": {}
      },
      "source": [
        "def volatility(data):\n",
        "  import numpy as np\n",
        "  df = data.copy()\n",
        "  df = df.pct_change()\n",
        "  risk = df.std()*np.sqrt(252)\n",
        "  return risk*100"
      ],
      "execution_count": 10,
      "outputs": []
    },
    {
      "cell_type": "code",
      "metadata": {
        "id": "2K7wJpOSrlm-",
        "colab_type": "code",
        "colab": {
          "base_uri": "https://localhost:8080/",
          "height": 50
        },
        "outputId": "c2247600-ba54-4fb7-a5d1-ff909e7b7b41"
      },
      "source": [
        "check = pd.DataFrame(tracker['Net'])\n",
        "volatility(check)"
      ],
      "execution_count": 11,
      "outputs": [
        {
          "output_type": "execute_result",
          "data": {
            "text/plain": [
              "Net    17.984457\n",
              "dtype: float64"
            ]
          },
          "metadata": {
            "tags": []
          },
          "execution_count": 11
        }
      ]
    },
    {
      "cell_type": "markdown",
      "metadata": {
        "id": "DzEkbVSVr7uW",
        "colab_type": "text"
      },
      "source": [
        "## Shape Ratio"
      ]
    },
    {
      "cell_type": "code",
      "metadata": {
        "id": "EgOkch0xrqHh",
        "colab_type": "code",
        "colab": {}
      },
      "source": [
        "def sharpe(data, rf = 5.42):\n",
        "  df = data.copy()\n",
        "  sratio = (cagr(df) - rf)/volatility(df)\n",
        "  return sratio"
      ],
      "execution_count": 12,
      "outputs": []
    },
    {
      "cell_type": "code",
      "metadata": {
        "id": "wrY6LfWps2ss",
        "colab_type": "code",
        "colab": {
          "base_uri": "https://localhost:8080/",
          "height": 50
        },
        "outputId": "ecde4578-4138-470a-928a-f9ec996a96a8"
      },
      "source": [
        "check = pd.DataFrame(tracker['Net'])\n",
        "sharpe(check)"
      ],
      "execution_count": 13,
      "outputs": [
        {
          "output_type": "execute_result",
          "data": {
            "text/plain": [
              "Net    0.778217\n",
              "dtype: float64"
            ]
          },
          "metadata": {
            "tags": []
          },
          "execution_count": 13
        }
      ]
    },
    {
      "cell_type": "markdown",
      "metadata": {
        "id": "L4ftD9Hyv0mp",
        "colab_type": "text"
      },
      "source": [
        "## Sortino's Ratio"
      ]
    },
    {
      "cell_type": "code",
      "metadata": {
        "id": "Hfn5npB-uLzS",
        "colab_type": "code",
        "colab": {}
      },
      "source": [
        "def sortino(data, rf = 5.42):\n",
        "  import numpy as np\n",
        "  df = data.copy()\n",
        "  cgr = cagr(df)\n",
        "  df = df.pct_change()\n",
        "  negvol = df[df<0].std()*np.sqrt(252)*100\n",
        "  sortr = (cgr - rf)/negvol\n",
        "  return sortr"
      ],
      "execution_count": 14,
      "outputs": []
    },
    {
      "cell_type": "code",
      "metadata": {
        "id": "TtCzN1tXxPca",
        "colab_type": "code",
        "colab": {
          "base_uri": "https://localhost:8080/",
          "height": 50
        },
        "outputId": "20ef508c-1333-4984-d14a-146e0d6a6cab"
      },
      "source": [
        "check = pd.DataFrame(tracker['Net'])\n",
        "sortino(check)"
      ],
      "execution_count": 15,
      "outputs": [
        {
          "output_type": "execute_result",
          "data": {
            "text/plain": [
              "Net    1.097335\n",
              "dtype: float64"
            ]
          },
          "metadata": {
            "tags": []
          },
          "execution_count": 15
        }
      ]
    },
    {
      "cell_type": "markdown",
      "metadata": {
        "id": "L1j-gSi0yFcV",
        "colab_type": "text"
      },
      "source": [
        "## Maximum Drawdown"
      ]
    },
    {
      "cell_type": "code",
      "metadata": {
        "id": "AAX1eeCIxRAx",
        "colab_type": "code",
        "colab": {}
      },
      "source": [
        "def maxdd(data):\n",
        "  df = data.copy()\n",
        "  df = df.pct_change()\n",
        "  dfcp = (1+df).cumprod()\n",
        "  dfm = dfcp.cummax()\n",
        "  dfr = (dfm - dfcp)/dfm\n",
        "  max_dd = dfr.max()\n",
        "  return max_dd*100"
      ],
      "execution_count": 16,
      "outputs": []
    },
    {
      "cell_type": "code",
      "metadata": {
        "id": "CyYsTaZP2hkh",
        "colab_type": "code",
        "colab": {
          "base_uri": "https://localhost:8080/",
          "height": 50
        },
        "outputId": "4dca0088-d0f2-4042-a9f7-1d646c1314b8"
      },
      "source": [
        "check = pd.DataFrame(tracker['Net'])\n",
        "maxdd(check)"
      ],
      "execution_count": 17,
      "outputs": [
        {
          "output_type": "execute_result",
          "data": {
            "text/plain": [
              "Net    19.670954\n",
              "dtype: float64"
            ]
          },
          "metadata": {
            "tags": []
          },
          "execution_count": 17
        }
      ]
    },
    {
      "cell_type": "markdown",
      "metadata": {
        "id": "b-OPQBMA3Fg_",
        "colab_type": "text"
      },
      "source": [
        "## Calmar Ratio"
      ]
    },
    {
      "cell_type": "code",
      "metadata": {
        "id": "VlhvwpX92lUu",
        "colab_type": "code",
        "colab": {}
      },
      "source": [
        "def calmar(data):\n",
        "  df = data.copy()\n",
        "  clmr = cagr(df)/maxdd(df)\n",
        "  return clmr"
      ],
      "execution_count": 18,
      "outputs": []
    },
    {
      "cell_type": "code",
      "metadata": {
        "id": "WGVauTDK3EyN",
        "colab_type": "code",
        "colab": {
          "base_uri": "https://localhost:8080/",
          "height": 50
        },
        "outputId": "221ec3a1-b066-459a-c330-434478a80d1c"
      },
      "source": [
        "check = pd.DataFrame(tracker['Net'])\n",
        "calmar(check)"
      ],
      "execution_count": 19,
      "outputs": [
        {
          "output_type": "execute_result",
          "data": {
            "text/plain": [
              "Net    0.98703\n",
              "dtype: float64"
            ]
          },
          "metadata": {
            "tags": []
          },
          "execution_count": 19
        }
      ]
    },
    {
      "cell_type": "code",
      "metadata": {
        "id": "uwaGlylv3MkS",
        "colab_type": "code",
        "colab": {}
      },
      "source": [
        ""
      ],
      "execution_count": 19,
      "outputs": []
    }
  ]
}